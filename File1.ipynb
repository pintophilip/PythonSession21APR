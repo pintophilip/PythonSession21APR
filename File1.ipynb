{
  "nbformat": 4,
  "nbformat_minor": 0,
  "metadata": {
    "colab": {
      "provenance": [],
      "authorship_tag": "ABX9TyOn/Yd7WQMMGfDjk6TOkXQJ",
      "include_colab_link": true
    },
    "kernelspec": {
      "name": "python3",
      "display_name": "Python 3"
    },
    "language_info": {
      "name": "python"
    }
  },
  "cells": [
    {
      "cell_type": "markdown",
      "metadata": {
        "id": "view-in-github",
        "colab_type": "text"
      },
      "source": [
        "<a href=\"https://colab.research.google.com/github/pintophilip/PythonSession21APR/blob/main/File1.ipynb\" target=\"_parent\"><img src=\"https://colab.research.google.com/assets/colab-badge.svg\" alt=\"Open In Colab\"/></a>"
      ]
    },
    {
      "cell_type": "code",
      "execution_count": null,
      "metadata": {
        "id": "ZU4Yqdv73wpW",
        "outputId": "c6eba8d8-5fae-4ff9-99f7-f3274c610a2d",
        "colab": {
          "base_uri": "https://localhost:8080/"
        }
      },
      "outputs": [
        {
          "output_type": "stream",
          "name": "stdout",
          "text": [
            "hello world\n"
          ]
        }
      ],
      "source": [
        "print (\"hello world\")"
      ]
    },
    {
      "cell_type": "code",
      "source": [
        "# prompt: fibonacci series\n",
        "def fib(n):\n",
        "    if n < 2:\n",
        "        return n\n",
        "    else:\n",
        "        return fib(n-1) + fib(n-2)\n",
        "\n",
        "print(fib(10))\n"
      ],
      "metadata": {
        "id": "rVr2yvEe_LFd",
        "outputId": "1aca3bb0-6acc-46d2-f027-b7b72f09d091",
        "colab": {
          "base_uri": "https://localhost:8080/"
        }
      },
      "execution_count": null,
      "outputs": [
        {
          "output_type": "stream",
          "name": "stdout",
          "text": [
            "55\n"
          ]
        }
      ]
    },
    {
      "cell_type": "code",
      "source": [
        "# prompt : fibonacci series using lamda\n",
        "fib = lambda n: n if n < 2 else fib(n-1) + fib(n-2)\n",
        "print(fib(10))"
      ],
      "metadata": {
        "id": "UAwugKfX_0UE",
        "outputId": "f2588d49-4800-4863-a6c4-665f53de33a5",
        "colab": {
          "base_uri": "https://localhost:8080/"
        }
      },
      "execution_count": null,
      "outputs": [
        {
          "output_type": "stream",
          "name": "stdout",
          "text": [
            "55\n"
          ]
        }
      ]
    },
    {
      "cell_type": "code",
      "source": [
        "variable_x = lambda x : x**3 if(x%2 == 0) else x**2\n",
        "num_list = [1,2,3,4,5,6,7,8,9,10]\n",
        "for num in num_list:\n",
        "    print(variable_x(num))\n"
      ],
      "metadata": {
        "id": "zkLS7VkiA18T",
        "outputId": "2e20ce0c-9f07-486d-c590-5d7d4c625b7a",
        "colab": {
          "base_uri": "https://localhost:8080/"
        }
      },
      "execution_count": null,
      "outputs": [
        {
          "output_type": "stream",
          "name": "stdout",
          "text": [
            "1\n",
            "8\n",
            "9\n",
            "64\n",
            "25\n",
            "216\n",
            "49\n",
            "512\n",
            "81\n",
            "1000\n"
          ]
        }
      ]
    },
    {
      "cell_type": "code",
      "source": [
        "print(list(map(variable_x, num_list)))"
      ],
      "metadata": {
        "id": "Gf4_hJSdCfFG",
        "outputId": "b295d607-0e1b-4449-f5d8-bb80d13dd2b3",
        "colab": {
          "base_uri": "https://localhost:8080/"
        }
      },
      "execution_count": null,
      "outputs": [
        {
          "output_type": "stream",
          "name": "stdout",
          "text": [
            "[1, 8, 9, 64, 25, 216, 49, 512, 81, 1000]\n"
          ]
        }
      ]
    },
    {
      "cell_type": "code",
      "source": [
        "from functools import reduce\n",
        "num_list = [1,2,3,14,5,6,7,8,9,10]\n",
        "print(reduce(lambda x, y: x if x>y else y, num_list))"
      ],
      "metadata": {
        "id": "oQUWNhZ4FZtD",
        "outputId": "6a2b480a-345f-4615-9025-f8a6a77d8cbf",
        "colab": {
          "base_uri": "https://localhost:8080/"
        }
      },
      "execution_count": 14,
      "outputs": [
        {
          "output_type": "stream",
          "name": "stdout",
          "text": [
            "14\n"
          ]
        }
      ]
    },
    {
      "cell_type": "code",
      "source": [
        "fib = lambda n: n if n < 2 else fib(n-1) + fib(n-2)\n",
        "print(fib(10))"
      ],
      "metadata": {
        "id": "ECq-nsidF8tY",
        "outputId": "420719f3-59f6-4871-cf75-d0a4e9813835",
        "colab": {
          "base_uri": "https://localhost:8080/"
        }
      },
      "execution_count": 15,
      "outputs": [
        {
          "output_type": "stream",
          "name": "stdout",
          "text": [
            "55\n"
          ]
        }
      ]
    }
  ]
}