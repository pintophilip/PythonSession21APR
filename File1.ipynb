{
  "nbformat": 4,
  "nbformat_minor": 0,
  "metadata": {
    "colab": {
      "provenance": [],
      "authorship_tag": "ABX9TyMQsLd7rjoPQyCfjE4wsbHq",
      "include_colab_link": true
    },
    "kernelspec": {
      "name": "python3",
      "display_name": "Python 3"
    },
    "language_info": {
      "name": "python"
    }
  },
  "cells": [
    {
      "cell_type": "markdown",
      "metadata": {
        "id": "view-in-github",
        "colab_type": "text"
      },
      "source": [
        "<a href=\"https://colab.research.google.com/github/pintophilip/PythonSession21APR/blob/main/File1.ipynb\" target=\"_parent\"><img src=\"https://colab.research.google.com/assets/colab-badge.svg\" alt=\"Open In Colab\"/></a>"
      ]
    },
    {
      "cell_type": "code",
      "execution_count": null,
      "metadata": {
        "id": "ZU4Yqdv73wpW",
        "outputId": "c6eba8d8-5fae-4ff9-99f7-f3274c610a2d",
        "colab": {
          "base_uri": "https://localhost:8080/"
        }
      },
      "outputs": [
        {
          "output_type": "stream",
          "name": "stdout",
          "text": [
            "hello world\n"
          ]
        }
      ],
      "source": [
        "print (\"hello world\")"
      ]
    },
    {
      "cell_type": "code",
      "source": [
        "# prompt: fibonacci series\n",
        "def fib(n):\n",
        "    if n < 2:\n",
        "        return n\n",
        "    else:\n",
        "        return fib(n-1) + fib(n-2)\n",
        "\n",
        "print(fib(10))\n"
      ],
      "metadata": {
        "id": "rVr2yvEe_LFd",
        "outputId": "1aca3bb0-6acc-46d2-f027-b7b72f09d091",
        "colab": {
          "base_uri": "https://localhost:8080/"
        }
      },
      "execution_count": null,
      "outputs": [
        {
          "output_type": "stream",
          "name": "stdout",
          "text": [
            "55\n"
          ]
        }
      ]
    },
    {
      "cell_type": "code",
      "source": [
        "# prompt : fibonacci series using lamda\n",
        "fib = lambda n: n if n < 2 else fib(n-1) + fib(n-2)\n",
        "print(fib(10))"
      ],
      "metadata": {
        "id": "UAwugKfX_0UE",
        "outputId": "f2588d49-4800-4863-a6c4-665f53de33a5",
        "colab": {
          "base_uri": "https://localhost:8080/"
        }
      },
      "execution_count": null,
      "outputs": [
        {
          "output_type": "stream",
          "name": "stdout",
          "text": [
            "55\n"
          ]
        }
      ]
    },
    {
      "cell_type": "code",
      "source": [
        "variable_x = lambda x : x**3 if(x%2 == 0) else x**2\n",
        "num_list = [1,2,3,4,5,6,7,8,9,10]\n",
        "for num in num_list:\n",
        "    print(variable_x(num))\n"
      ],
      "metadata": {
        "id": "zkLS7VkiA18T",
        "outputId": "2e20ce0c-9f07-486d-c590-5d7d4c625b7a",
        "colab": {
          "base_uri": "https://localhost:8080/"
        }
      },
      "execution_count": null,
      "outputs": [
        {
          "output_type": "stream",
          "name": "stdout",
          "text": [
            "1\n",
            "8\n",
            "9\n",
            "64\n",
            "25\n",
            "216\n",
            "49\n",
            "512\n",
            "81\n",
            "1000\n"
          ]
        }
      ]
    },
    {
      "cell_type": "code",
      "source": [
        "print(list(map(variable_x, num_list)))"
      ],
      "metadata": {
        "id": "Gf4_hJSdCfFG",
        "outputId": "b295d607-0e1b-4449-f5d8-bb80d13dd2b3",
        "colab": {
          "base_uri": "https://localhost:8080/"
        }
      },
      "execution_count": null,
      "outputs": [
        {
          "output_type": "stream",
          "name": "stdout",
          "text": [
            "[1, 8, 9, 64, 25, 216, 49, 512, 81, 1000]\n"
          ]
        }
      ]
    },
    {
      "cell_type": "code",
      "source": [
        "from functools import reduce\n",
        "num_list = [1,2,3,14,5,6,7,8,9,10]\n",
        "print(reduce(lambda x, y: x if x>y else y, num_list))"
      ],
      "metadata": {
        "id": "oQUWNhZ4FZtD",
        "outputId": "6a2b480a-345f-4615-9025-f8a6a77d8cbf",
        "colab": {
          "base_uri": "https://localhost:8080/"
        }
      },
      "execution_count": null,
      "outputs": [
        {
          "output_type": "stream",
          "name": "stdout",
          "text": [
            "14\n"
          ]
        }
      ]
    },
    {
      "cell_type": "code",
      "source": [
        "fib = lambda n: n if n < 2 else fib(n-1) + fib(n-2)\n",
        "print(fib(10))"
      ],
      "metadata": {
        "id": "ECq-nsidF8tY",
        "outputId": "420719f3-59f6-4871-cf75-d0a4e9813835",
        "colab": {
          "base_uri": "https://localhost:8080/"
        }
      },
      "execution_count": null,
      "outputs": [
        {
          "output_type": "stream",
          "name": "stdout",
          "text": [
            "55\n"
          ]
        }
      ]
    },
    {
      "cell_type": "code",
      "source": [
        "fib = lambda n : reduce(lambda x, _: x  if x < 2 else fib(x-1) + fib(x-2), range(n))\n",
        "print(fib(10))"
      ],
      "metadata": {
        "id": "IaG7jf7nH1fe",
        "outputId": "2b5970a0-e672-4e82-af88-97dbbedf35c2",
        "colab": {
          "base_uri": "https://localhost:8080/"
        }
      },
      "execution_count": 20,
      "outputs": [
        {
          "output_type": "stream",
          "name": "stdout",
          "text": [
            "0\n"
          ]
        }
      ]
    },
    {
      "cell_type": "code",
      "source": [
        "# prompt create a class called flashcard with dictionary fruit and color of fruit and a method choice that will randomnly return one item from the dictionary\n"
      ],
      "metadata": {
        "id": "Nopif8JGOylc"
      },
      "execution_count": 21,
      "outputs": []
    },
    {
      "cell_type": "code",
      "source": [
        "# prompt create a class called flashcard with dictionary fruit and color of fruit and a method choice that will randomnly return one item from the dictionary\n"
      ],
      "metadata": {
        "id": "1aDBafbnPndp"
      },
      "execution_count": null,
      "outputs": []
    },
    {
      "cell_type": "code",
      "source": [
        "import random\n",
        "\n",
        "class Flashcard:\n",
        "  def __init__(self):\n",
        "    self.fruits = {\n",
        "      \"apple\": \"red\",\n",
        "      \"banana\": \"yellow\",\n",
        "      \"orange\": \"orange\",\n",
        "      \"grape\": \"purple\",\n",
        "      \"watermelon\": \"green\",\n",
        "    }\n",
        "\n",
        "  def choice(self):\n",
        "    fruit, color = random.choice(list(self.fruits.items()))\n",
        "    return fruit, color\n",
        ""
      ],
      "metadata": {
        "id": "EY-_jJdnP334"
      },
      "execution_count": 22,
      "outputs": []
    },
    {
      "cell_type": "code",
      "source": [
        "# prompt: ask the user to answer the randomly chose fruit above and if correct print correct else print wrong\n",
        "\n",
        "# Create a flashcard object\n",
        "flashcard = Flashcard()\n",
        "\n",
        "# Get a random fruit and color\n",
        "fruit, color = flashcard.choice()\n",
        "\n",
        "# Ask the user to answer the question\n",
        "answer = input(f\"What color is a {fruit}? \")\n",
        "\n",
        "# Check if the answer is correct\n",
        "if answer.lower() == color.lower():\n",
        "  print(\"Correct!\")\n",
        "else:\n",
        "  print(\"Wrong. The correct answer is\", color)\n"
      ],
      "metadata": {
        "id": "G4I_3tnvQEBH",
        "outputId": "65682f26-8a9b-4aea-e7a6-410c5e071acd",
        "colab": {
          "base_uri": "https://localhost:8080/"
        }
      },
      "execution_count": 23,
      "outputs": [
        {
          "output_type": "stream",
          "name": "stdout",
          "text": [
            "What color is a watermelon? red\n",
            "Wrong. The correct answer is green\n"
          ]
        }
      ]
    },
    {
      "cell_type": "code",
      "source": [],
      "metadata": {
        "id": "y_trJfzDQe-E"
      },
      "execution_count": null,
      "outputs": []
    }
  ]
}