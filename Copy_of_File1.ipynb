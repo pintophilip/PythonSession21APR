{
  "nbformat": 4,
  "nbformat_minor": 0,
  "metadata": {
    "colab": {
      "provenance": [],
      "authorship_tag": "ABX9TyP11ykD31SLDCXgHjp0TtUh",
      "include_colab_link": true
    },
    "kernelspec": {
      "name": "python3",
      "display_name": "Python 3"
    },
    "language_info": {
      "name": "python"
    }
  },
  "cells": [
    {
      "cell_type": "markdown",
      "metadata": {
        "id": "view-in-github",
        "colab_type": "text"
      },
      "source": [
        "<a href=\"https://colab.research.google.com/github/pintophilip/PythonSession21APR/blob/main/Copy_of_File1.ipynb\" target=\"_parent\"><img src=\"https://colab.research.google.com/assets/colab-badge.svg\" alt=\"Open In Colab\"/></a>"
      ]
    },
    {
      "cell_type": "code",
      "execution_count": null,
      "metadata": {
        "id": "ZU4Yqdv73wpW",
        "outputId": "c6eba8d8-5fae-4ff9-99f7-f3274c610a2d",
        "colab": {
          "base_uri": "https://localhost:8080/"
        }
      },
      "outputs": [
        {
          "output_type": "stream",
          "name": "stdout",
          "text": [
            "hello world\n"
          ]
        }
      ],
      "source": [
        "print (\"hello world\")"
      ]
    },
    {
      "cell_type": "code",
      "source": [
        "# prompt: fibonacci series\n",
        "def fib(n):\n",
        "    if n < 2:\n",
        "        return n\n",
        "    else:\n",
        "        return fib(n-1) + fib(n-2)\n",
        "\n",
        "print(fib(10))\n"
      ],
      "metadata": {
        "id": "rVr2yvEe_LFd",
        "outputId": "1aca3bb0-6acc-46d2-f027-b7b72f09d091",
        "colab": {
          "base_uri": "https://localhost:8080/"
        }
      },
      "execution_count": null,
      "outputs": [
        {
          "output_type": "stream",
          "name": "stdout",
          "text": [
            "55\n"
          ]
        }
      ]
    },
    {
      "cell_type": "code",
      "source": [
        "# prompt : fibonacci series using lamda\n",
        "fib = lambda n: n if n < 2 else fib(n-1) + fib(n-2)\n",
        "print(fib(10))"
      ],
      "metadata": {
        "id": "UAwugKfX_0UE",
        "outputId": "f2588d49-4800-4863-a6c4-665f53de33a5",
        "colab": {
          "base_uri": "https://localhost:8080/"
        }
      },
      "execution_count": null,
      "outputs": [
        {
          "output_type": "stream",
          "name": "stdout",
          "text": [
            "55\n"
          ]
        }
      ]
    },
    {
      "cell_type": "code",
      "source": [
        "variable_x = lambda x : x**3 if(x%2 == 0) else x**2\n",
        "num_list = [1,2,3,4,5,6,7,8,9,10]\n",
        "for num in num_list:\n",
        "    print(variable_x(num))\n"
      ],
      "metadata": {
        "id": "zkLS7VkiA18T",
        "outputId": "2e20ce0c-9f07-486d-c590-5d7d4c625b7a",
        "colab": {
          "base_uri": "https://localhost:8080/"
        }
      },
      "execution_count": null,
      "outputs": [
        {
          "output_type": "stream",
          "name": "stdout",
          "text": [
            "1\n",
            "8\n",
            "9\n",
            "64\n",
            "25\n",
            "216\n",
            "49\n",
            "512\n",
            "81\n",
            "1000\n"
          ]
        }
      ]
    },
    {
      "cell_type": "code",
      "source": [
        "print(list(map(variable_x, num_list)))"
      ],
      "metadata": {
        "id": "Gf4_hJSdCfFG",
        "outputId": "b295d607-0e1b-4449-f5d8-bb80d13dd2b3",
        "colab": {
          "base_uri": "https://localhost:8080/"
        }
      },
      "execution_count": null,
      "outputs": [
        {
          "output_type": "stream",
          "name": "stdout",
          "text": [
            "[1, 8, 9, 64, 25, 216, 49, 512, 81, 1000]\n"
          ]
        }
      ]
    },
    {
      "cell_type": "code",
      "source": [
        "from functools import reduce\n",
        "num_list = [1,2,3,14,5,6,7,8,9,10]\n",
        "print(reduce(lambda x, y: x if x>y else y, num_list))"
      ],
      "metadata": {
        "id": "oQUWNhZ4FZtD",
        "outputId": "6a2b480a-345f-4615-9025-f8a6a77d8cbf",
        "colab": {
          "base_uri": "https://localhost:8080/"
        }
      },
      "execution_count": null,
      "outputs": [
        {
          "output_type": "stream",
          "name": "stdout",
          "text": [
            "14\n"
          ]
        }
      ]
    },
    {
      "cell_type": "code",
      "source": [
        "fib = lambda n: n if n < 2 else fib(n-1) + fib(n-2)\n",
        "print(fib(10))"
      ],
      "metadata": {
        "id": "ECq-nsidF8tY",
        "outputId": "420719f3-59f6-4871-cf75-d0a4e9813835",
        "colab": {
          "base_uri": "https://localhost:8080/"
        }
      },
      "execution_count": null,
      "outputs": [
        {
          "output_type": "stream",
          "name": "stdout",
          "text": [
            "55\n"
          ]
        }
      ]
    },
    {
      "cell_type": "code",
      "source": [
        "fib = lambda n : reduce(lambda x, _: x  if x < 2 else fib(x-1) + fib(x-2), range(n))\n",
        "print(fib(10))"
      ],
      "metadata": {
        "id": "IaG7jf7nH1fe",
        "outputId": "2b5970a0-e672-4e82-af88-97dbbedf35c2",
        "colab": {
          "base_uri": "https://localhost:8080/"
        }
      },
      "execution_count": null,
      "outputs": [
        {
          "output_type": "stream",
          "name": "stdout",
          "text": [
            "0\n"
          ]
        }
      ]
    },
    {
      "cell_type": "code",
      "source": [
        "# prompt create a class called flashcard with dictionary fruit and color of fruit and a method choice that will randomnly return one item from the dictionary\n"
      ],
      "metadata": {
        "id": "Nopif8JGOylc"
      },
      "execution_count": null,
      "outputs": []
    },
    {
      "cell_type": "code",
      "source": [
        "# prompt create a class called flashcard with dictionary fruit and color of fruit and a method choice that will randomnly return one item from the dictionary\n"
      ],
      "metadata": {
        "id": "1aDBafbnPndp"
      },
      "execution_count": null,
      "outputs": []
    },
    {
      "cell_type": "code",
      "source": [
        "import random\n",
        "\n",
        "class Flashcard:\n",
        "  def __init__(self):\n",
        "    self.fruits = {\n",
        "      \"apple\": \"red\",\n",
        "      \"banana\": \"yellow\",\n",
        "      \"orange\": \"orange\",\n",
        "      \"grape\": \"purple\",\n",
        "      \"watermelon\": \"green\",\n",
        "    }\n",
        "\n",
        "  def choice(self):\n",
        "    fruit, color = random.choice(list(self.fruits.items()))\n",
        "    return fruit, color\n"
      ],
      "metadata": {
        "id": "EY-_jJdnP334"
      },
      "execution_count": null,
      "outputs": []
    },
    {
      "cell_type": "code",
      "source": [
        "# prompt: ask the user to answer the randomly chose fruit above and if correct print correct else print wrong\n",
        "\n",
        "# Create a flashcard object\n",
        "flashcard = Flashcard()\n",
        "\n",
        "# Get a random fruit and color\n",
        "fruit, color = flashcard.choice()\n",
        "\n",
        "# Ask the user to answer the question\n",
        "answer = input(f\"What color is a {fruit}? \")\n",
        "\n",
        "# Check if the answer is correct\n",
        "if answer.lower() == color.lower():\n",
        "  print(\"Correct!\")\n",
        "else:\n",
        "  print(\"Wrong. The correct answer is\", color)\n"
      ],
      "metadata": {
        "id": "G4I_3tnvQEBH",
        "outputId": "05862548-7910-4ed4-9f90-6e03f4bccd9e",
        "colab": {
          "base_uri": "https://localhost:8080/"
        }
      },
      "execution_count": null,
      "outputs": [
        {
          "output_type": "stream",
          "name": "stdout",
          "text": [
            "What color is a apple? red\n",
            "Correct!\n"
          ]
        }
      ]
    },
    {
      "cell_type": "code",
      "source": [
        "sum_up = {'a': 102, 'b': 200 , 'c': 300 , 'd': 400}"
      ],
      "metadata": {
        "id": "y_trJfzDQe-E"
      },
      "execution_count": null,
      "outputs": []
    },
    {
      "cell_type": "code",
      "source": [
        "# prompt: sum up all items in above list\n",
        "print(sum_up.values() )\n",
        "print(sum(sum_up.values()))\n"
      ],
      "metadata": {
        "id": "DOrDjJJaR6ZF",
        "outputId": "4882e3e7-f57b-413e-b6ad-3f27e1a17b7e",
        "colab": {
          "base_uri": "https://localhost:8080/"
        }
      },
      "execution_count": null,
      "outputs": [
        {
          "output_type": "stream",
          "name": "stdout",
          "text": [
            "dict_values([102, 200, 300, 400])\n",
            "1002\n"
          ]
        }
      ]
    },
    {
      "cell_type": "code",
      "source": [
        "sentences = [ \"the quick brown fox jumps over the brown dog\", \"the dog barks loudly\", \"the cat sleeps peacefully\" ]"
      ],
      "metadata": {
        "id": "eUtvKHNVaiMJ"
      },
      "execution_count": 1,
      "outputs": []
    },
    {
      "cell_type": "code",
      "source": [
        "# prompt: tokenize the above sentences\n",
        "import nltk\n",
        "nltk.download('punkt')\n",
        "from nltk.tokenize import word_tokenize\n",
        "\n",
        "tokenized_sentences = [word_tokenize(sentence) for sentence in sentences]\n",
        "\n",
        "for sentence in tokenized_sentences:\n",
        "  print(sentence)\n"
      ],
      "metadata": {
        "colab": {
          "base_uri": "https://localhost:8080/"
        },
        "id": "zN4XcVfHamxm",
        "outputId": "e0f7421a-2990-4796-fce7-038df9c5d0d2"
      },
      "execution_count": 3,
      "outputs": [
        {
          "output_type": "stream",
          "name": "stderr",
          "text": [
            "[nltk_data] Downloading package punkt to /root/nltk_data...\n",
            "[nltk_data]   Unzipping tokenizers/punkt.zip.\n"
          ]
        },
        {
          "output_type": "stream",
          "name": "stdout",
          "text": [
            "['the', 'quick', 'brown', 'fox', 'jumps', 'over', 'the', 'brown', 'dog']\n",
            "['the', 'dog', 'barks', 'loudly']\n",
            "['the', 'cat', 'sleeps', 'peacefully']\n"
          ]
        }
      ]
    },
    {
      "cell_type": "code",
      "source": [
        "# prompt: create a bag of words for sentence above\n",
        "\n",
        "import nltk\n",
        "nltk.download('stopwords')\n",
        "from nltk.corpus import stopwords\n",
        "from nltk.tokenize import word_tokenize\n",
        "\n",
        "# Create a list of stop words\n",
        "stop_words = set(stopwords.words('english'))\n",
        "\n",
        "# Tokenize the sentences\n",
        "tokenized_sentences = [word_tokenize(sentence) for sentence in sentences]\n",
        "\n",
        "# Create a bag of words\n",
        "bag_of_words = {}\n",
        "\n",
        "for sentence in tokenized_sentences:\n",
        "  for word in sentence:\n",
        "    if word not in stop_words:\n",
        "      if word not in bag_of_words:\n",
        "        bag_of_words[word] = 1\n",
        "      else:\n",
        "        bag_of_words[word] += 1\n",
        "\n",
        "# Print the bag of words\n",
        "print(bag_of_words)\n"
      ],
      "metadata": {
        "colab": {
          "base_uri": "https://localhost:8080/"
        },
        "id": "hG79MyMXax_v",
        "outputId": "7870af13-d356-4b6a-c25c-d1bda9df2653"
      },
      "execution_count": 9,
      "outputs": [
        {
          "output_type": "stream",
          "name": "stdout",
          "text": [
            "{'quick': 1, 'brown': 2, 'fox': 1, 'jumps': 1, 'dog': 2, 'barks': 1, 'loudly': 1, 'cat': 1, 'sleeps': 1, 'peacefully': 1}\n"
          ]
        },
        {
          "output_type": "stream",
          "name": "stderr",
          "text": [
            "[nltk_data] Downloading package stopwords to /root/nltk_data...\n",
            "[nltk_data]   Package stopwords is already up-to-date!\n"
          ]
        }
      ]
    }
  ]
}